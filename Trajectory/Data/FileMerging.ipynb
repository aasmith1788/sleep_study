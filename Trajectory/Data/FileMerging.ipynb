{
 "cells": [
  {
   "cell_type": "code",
   "execution_count": 523,
   "metadata": {},
   "outputs": [],
   "source": [
    "import pandas as pd\n",
    "import os\n",
    "import numpy as np\n",
    "import re"
   ]
  },
  {
   "cell_type": "markdown",
   "metadata": {},
   "source": [
    "Actigraph"
   ]
  },
  {
   "cell_type": "code",
   "execution_count": 524,
   "metadata": {},
   "outputs": [],
   "source": [
    "outputDir = r'R:/KumarLab3/PROJECTS/wesens/Data/Analysis/Kim_E/Pain Trajectory/Data/'"
   ]
  },
  {
   "cell_type": "code",
   "execution_count": 525,
   "metadata": {},
   "outputs": [],
   "source": [
    "# Remove W\n",
    "def extract_number(num):\n",
    "    match = re.search(r'\\d+', num)\n",
    "    if match:\n",
    "        return int(match.group())\n",
    "    return None"
   ]
  },
  {
   "cell_type": "code",
   "execution_count": 526,
   "metadata": {},
   "outputs": [],
   "source": [
    "lcmm_group = pd.read_csv(r\"R:/KumarLab3/PROJECTS/wesens/Data/Analysis/Kim_E/Pain Trajectory/Results/ClassMembership_total.csv\")\n",
    "profile = pd.read_csv(r\"R:/KumarLab3/PROJECTS/wesens/Data/Analysis/Kim Fx MEP/Statistical An/construct/DataSet/mep_func_stg_qst_merged_11-07-2024.csv\")\n",
    "walk6m_gait = pd.read_csv(r\"R:/KumarLab3/PROJECTS/wesens/Data/Analysis/Kim_E/apdm_6mwt_28m_wesens_fnirs_tempo/DataSet/mep_gait_minute_6mwt.csv\")"
   ]
  },
  {
   "cell_type": "code",
   "execution_count": 527,
   "metadata": {},
   "outputs": [
    {
     "name": "stderr",
     "output_type": "stream",
     "text": [
      "C:\\Users\\kimawc\\AppData\\Local\\Temp\\ipykernel_26796\\108187174.py:2: SettingWithCopyWarning: \n",
      "A value is trying to be set on a copy of a slice from a DataFrame.\n",
      "Try using .loc[row_indexer,col_indexer] = value instead\n",
      "\n",
      "See the caveats in the documentation: https://pandas.pydata.org/pandas-docs/stable/user_guide/indexing.html#returning-a-view-versus-a-copy\n",
      "  demo_data['record_id'] = demo_data['record_id'].apply(extract_number)\n"
     ]
    }
   ],
   "source": [
    "demo_data = profile[profile['project']== 'wesens']\n",
    "demo_data['record_id'] = demo_data['record_id'].apply(extract_number)\n",
    "\n",
    "filtered_profile = demo_data[demo_data['record_id'].isin(lcmm_group['record_id'])]\n",
    "combined_data = pd.merge(lcmm_group, filtered_profile, on='record_id', how='outer')"
   ]
  },
  {
   "cell_type": "code",
   "execution_count": 528,
   "metadata": {},
   "outputs": [],
   "source": [
    "walk6m_gait = walk6m_gait[walk6m_gait['minute']==\"all\"]\n",
    "gait = walk6m_gait[walk6m_gait['record_id'].str.startswith('W', na=False)].copy()\n",
    "gait['record_id'] = gait['record_id'].apply(extract_number)\n",
    "gait['week'] = 'baseline'\n",
    "filtered_profile2 = gait[gait['record_id'].isin(lcmm_group['record_id'])]\n",
    "combined_data = pd.merge(combined_data, filtered_profile2, on=['record_id', 'week'], how='outer')"
   ]
  },
  {
   "cell_type": "code",
   "execution_count": 529,
   "metadata": {},
   "outputs": [],
   "source": [
    "sleep_visit = pd.read_csv(r\"R:/KumarLab3/PROJECTS/wesens/BEDAC/external/H_WESENS_GT9X_Sleep/gt9x_sleep_visit_valid_an.csv\")\n",
    "sleep_visit['visit'] = sleep_visit['visit'].replace({\n",
    "    'BL (baseline)': 'baseline', \n",
    "    'W06 (week 6)': 'week6', \n",
    "    'W12 (week 12)': 'week12', \n",
    "    'W18 (week 18)': 'week18'\n",
    "})\n",
    "sleep_visit.rename(columns={'visit': 'week'}, inplace=True)\n",
    "sleep_visit.replace('.', np.nan, inplace=True)"
   ]
  },
  {
   "cell_type": "code",
   "execution_count": 530,
   "metadata": {},
   "outputs": [],
   "source": [
    "filtered_profile3 = sleep_visit[sleep_visit['record_id'].isin(lcmm_group['record_id'])]\n",
    "combined_data = pd.merge(combined_data, filtered_profile3, on=['record_id', 'week'], how='outer')"
   ]
  },
  {
   "cell_type": "code",
   "execution_count": 531,
   "metadata": {},
   "outputs": [],
   "source": [
    "columns_to_drop = ['6mwt_nrs', '6mwt_mep', '6mwt_mep_minute']\n",
    "combined_data = combined_data.drop(columns=columns_to_drop)\n",
    "combined_data.to_csv(os.path.join(outputDir,\"sleep_profile_gait_eff_tst_waso.csv\"), index=False)"
   ]
  },
  {
   "cell_type": "markdown",
   "metadata": {},
   "source": [
    "## GT9X"
   ]
  },
  {
   "cell_type": "code",
   "execution_count": 532,
   "metadata": {},
   "outputs": [],
   "source": [
    "# Actigraph - daily\n",
    "sleep_daily_df = pd.read_csv(r\"R:/KumarLab3/PROJECTS/wesens/BEDAC/external/H_WESENS_GT9X_Sleep/gt9x_sleep_daily_valid_an.csv\")\n",
    "\n",
    "sleep_col = ['record_id', 'visit','day_from_first_ptvisit', 'date',\t'calendar_week',\n",
    "           'Efficiency', 'tib','tst', 'waso',\t'Number_of_Awakenings', 'Sleep_Fragmentation_Index', 'MovementIndex', 'FragmentationIndex']\n",
    "\n",
    "sleep_daily_df['visit'] = sleep_daily_df['visit'].replace({\n",
    "    'BL (baseline)': 'baseline', \n",
    "    'W06 (week 6)': 'week6', \n",
    "    'W12 (week 12)': 'week12', \n",
    "    'W18 (week 18)': 'week18'\n",
    "})\n",
    "\n",
    "sleep_daily_df = sleep_daily_df[sleep_col]\n",
    "sleep_daily_df = sleep_daily_df.replace('.', np.nan)\n",
    "\n",
    "sleep_daily_df = sleep_daily_df.sort_values(by=['record_id', 'day_from_first_ptvisit'])\n",
    "sleep_daily_df = sleep_daily_df.reset_index(drop=True)\n",
    "\n",
    "# Find the calendar week \n",
    "sleep_daily_df['calendar_week_from_first_pt_vist'] = pd.NA\n",
    "days = [1, 7, 14, 21, 28, 35, 42, 49, 56, 63, 70, 77, 84, 91, 98, 105, 112, 119, 126, 133, 140, 147, 152]\n",
    "for day in days:\n",
    "    day_0 = day - 1\n",
    "    sleep_daily_df.loc[sleep_daily_df['day_from_first_ptvisit'] == day_0, 'calendar_week_from_first_pt_vist'] = sleep_daily_df.loc[sleep_daily_df['day_from_first_ptvisit'] == day_0, 'calendar_week']\n",
    "\n",
    "visit = ['baseline', 'week6', 'week12', 'week18']\n",
    "for day in visit:\n",
    "    sleep_daily_df.loc[sleep_daily_df['visit'] == day, 'calendar_week_from_first_pt_vist'] = sleep_daily_df['calendar_week']\n",
    "sleep_daily_df.to_csv(os.path.join(outputDir, 'gt9x_sleep_daily.csv'), index=False)"
   ]
  },
  {
   "cell_type": "code",
   "execution_count": 533,
   "metadata": {},
   "outputs": [],
   "source": [
    "# sleep_daily_lcmm_df = pd.merge(lcmm_group, sleep_daily_df, on=['record_id'], how = 'outer')\n",
    "# sleep_daily_lcmm_df.to_csv(os.path.join(outputDir, 'gt9x_sleep_lcmm__beta4_daily.csv'), index=False)"
   ]
  },
  {
   "cell_type": "code",
   "execution_count": 534,
   "metadata": {},
   "outputs": [
    {
     "name": "stderr",
     "output_type": "stream",
     "text": [
      "C:\\Users\\kimawc\\AppData\\Local\\Temp\\ipykernel_26796\\1986421849.py:2: SettingWithCopyWarning: \n",
      "A value is trying to be set on a copy of a slice from a DataFrame.\n",
      "Try using .loc[row_indexer,col_indexer] = value instead\n",
      "\n",
      "See the caveats in the documentation: https://pandas.pydata.org/pandas-docs/stable/user_guide/indexing.html#returning-a-view-versus-a-copy\n",
      "  sleep_daily_df2['day_from_first_ptvisit'] = pd.to_numeric(sleep_daily_df2['day_from_first_ptvisit'], errors='coerce')\n"
     ]
    }
   ],
   "source": [
    "sleep_daily_df2 = sleep_daily_df[['record_id', 'day_from_first_ptvisit', 'calendar_week']]\n",
    "sleep_daily_df2['day_from_first_ptvisit'] = pd.to_numeric(sleep_daily_df2['day_from_first_ptvisit'], errors='coerce')\n",
    "sleep_daily_df2 = sleep_daily_df2[sleep_daily_df2['day_from_first_ptvisit'] >= 0]\n",
    "sleep_daily_df2 = sleep_daily_df2.dropna(subset=['calendar_week'])\n",
    "sleep_daily_df2 = sleep_daily_df2.drop_duplicates(subset=['record_id', 'calendar_week'])\n",
    "sleep_daily_df2 = sleep_daily_df2.reset_index(drop=True)"
   ]
  },
  {
   "cell_type": "code",
   "execution_count": 541,
   "metadata": {},
   "outputs": [],
   "source": [
    "sleep_baseline = sleep_daily_df[['record_id', 'visit', 'day_from_first_ptvisit', 'calendar_week']]\n",
    "sleep_baseline = sleep_baseline[sleep_baseline['visit']=='baseline']\n",
    "sleep_baseline['redcap_event_name'] = 0\n",
    "sleep_baseline = sleep_baseline.drop_duplicates(subset=['record_id', 'calendar_week'])\n",
    "sleep_baseline = sleep_baseline.reset_index(drop=True)"
   ]
  },
  {
   "cell_type": "code",
   "execution_count": null,
   "metadata": {},
   "outputs": [
    {
     "data": {
      "text/html": [
       "<div>\n",
       "<style scoped>\n",
       "    .dataframe tbody tr th:only-of-type {\n",
       "        vertical-align: middle;\n",
       "    }\n",
       "\n",
       "    .dataframe tbody tr th {\n",
       "        vertical-align: top;\n",
       "    }\n",
       "\n",
       "    .dataframe thead th {\n",
       "        text-align: right;\n",
       "    }\n",
       "</style>\n",
       "<table border=\"1\" class=\"dataframe\">\n",
       "  <thead>\n",
       "    <tr style=\"text-align: right;\">\n",
       "      <th></th>\n",
       "      <th>record_id</th>\n",
       "      <th>visit</th>\n",
       "      <th>day_from_first_ptvisit</th>\n",
       "      <th>calendar_week</th>\n",
       "      <th>redcap_event_name</th>\n",
       "    </tr>\n",
       "  </thead>\n",
       "  <tbody>\n",
       "    <tr>\n",
       "      <th>0</th>\n",
       "      <td>2</td>\n",
       "      <td>baseline</td>\n",
       "      <td>-18</td>\n",
       "      <td>12</td>\n",
       "      <td>0</td>\n",
       "    </tr>\n",
       "    <tr>\n",
       "      <th>1</th>\n",
       "      <td>2</td>\n",
       "      <td>baseline</td>\n",
       "      <td>-15</td>\n",
       "      <td>13</td>\n",
       "      <td>0</td>\n",
       "    </tr>\n",
       "    <tr>\n",
       "      <th>2</th>\n",
       "      <td>3</td>\n",
       "      <td>baseline</td>\n",
       "      <td>-32</td>\n",
       "      <td>3</td>\n",
       "      <td>0</td>\n",
       "    </tr>\n",
       "    <tr>\n",
       "      <th>3</th>\n",
       "      <td>3</td>\n",
       "      <td>baseline</td>\n",
       "      <td>-30</td>\n",
       "      <td>4</td>\n",
       "      <td>0</td>\n",
       "    </tr>\n",
       "    <tr>\n",
       "      <th>4</th>\n",
       "      <td>10</td>\n",
       "      <td>baseline</td>\n",
       "      <td>-14</td>\n",
       "      <td>28</td>\n",
       "      <td>0</td>\n",
       "    </tr>\n",
       "    <tr>\n",
       "      <th>...</th>\n",
       "      <td>...</td>\n",
       "      <td>...</td>\n",
       "      <td>...</td>\n",
       "      <td>...</td>\n",
       "      <td>...</td>\n",
       "    </tr>\n",
       "    <tr>\n",
       "      <th>86</th>\n",
       "      <td>115</td>\n",
       "      <td>baseline</td>\n",
       "      <td>-22</td>\n",
       "      <td>21</td>\n",
       "      <td>0</td>\n",
       "    </tr>\n",
       "    <tr>\n",
       "      <th>87</th>\n",
       "      <td>117</td>\n",
       "      <td>baseline</td>\n",
       "      <td>-33</td>\n",
       "      <td>19</td>\n",
       "      <td>0</td>\n",
       "    </tr>\n",
       "    <tr>\n",
       "      <th>88</th>\n",
       "      <td>117</td>\n",
       "      <td>baseline</td>\n",
       "      <td>-29</td>\n",
       "      <td>20</td>\n",
       "      <td>0</td>\n",
       "    </tr>\n",
       "    <tr>\n",
       "      <th>89</th>\n",
       "      <td>127</td>\n",
       "      <td>baseline</td>\n",
       "      <td>-18</td>\n",
       "      <td>20</td>\n",
       "      <td>0</td>\n",
       "    </tr>\n",
       "    <tr>\n",
       "      <th>90</th>\n",
       "      <td>127</td>\n",
       "      <td>baseline</td>\n",
       "      <td>-15</td>\n",
       "      <td>21</td>\n",
       "      <td>0</td>\n",
       "    </tr>\n",
       "  </tbody>\n",
       "</table>\n",
       "<p>91 rows × 5 columns</p>\n",
       "</div>"
      ],
      "text/plain": [
       "    record_id     visit  day_from_first_ptvisit  calendar_week  \\\n",
       "0           2  baseline                     -18             12   \n",
       "1           2  baseline                     -15             13   \n",
       "2           3  baseline                     -32              3   \n",
       "3           3  baseline                     -30              4   \n",
       "4          10  baseline                     -14             28   \n",
       "..        ...       ...                     ...            ...   \n",
       "86        115  baseline                     -22             21   \n",
       "87        117  baseline                     -33             19   \n",
       "88        117  baseline                     -29             20   \n",
       "89        127  baseline                     -18             20   \n",
       "90        127  baseline                     -15             21   \n",
       "\n",
       "    redcap_event_name  \n",
       "0                   0  \n",
       "1                   0  \n",
       "2                   0  \n",
       "3                   0  \n",
       "4                   0  \n",
       "..                ...  \n",
       "86                  0  \n",
       "87                  0  \n",
       "88                  0  \n",
       "89                  0  \n",
       "90                  0  \n",
       "\n",
       "[91 rows x 5 columns]"
      ]
     },
     "execution_count": 544,
     "metadata": {},
     "output_type": "execute_result"
    }
   ],
   "source": []
  },
  {
   "cell_type": "code",
   "execution_count": null,
   "metadata": {},
   "outputs": [],
   "source": [
    "def assign_event_name_with_gap(group):\n",
    "    redcap_event_name = []\n",
    "    current_event = 1  # Start from 1\n",
    "    \n",
    "    # Track the previous calendar week to detect gaps\n",
    "    prev_week = None\n",
    "    \n",
    "    for week in group['calendar_week']:\n",
    "        if prev_week is not None:\n",
    "            # Check if there's a gap larger than 1 week\n",
    "            if week > prev_week + 1:\n",
    "                current_event += (week - prev_week - 1)\n",
    "        redcap_event_name.append(current_event)\n",
    "        current_event += 1  # Increment for next week\n",
    "        prev_week = week  # Update previous week\n",
    "    \n",
    "    group['redcap_event_name'] = redcap_event_name\n",
    "    return group\n",
    "\n",
    "sleep_daily_df2 = sleep_daily_df2.groupby('record_id', group_keys=False).apply(assign_event_name_with_gap)"
   ]
  },
  {
   "cell_type": "code",
   "execution_count": null,
   "metadata": {},
   "outputs": [],
   "source": [
    "sleep_daily_df2 = pd.concat([sleep_baseline, sleep_daily_df2])\n",
    "sleep_daily_df2 = sleep_daily_df2.sort_values(by=['record_id', 'redcap_event_name']).reset_index(drop=True)"
   ]
  },
  {
   "cell_type": "code",
   "execution_count": null,
   "metadata": {},
   "outputs": [],
   "source": [
    "# Actigraph - weekly\n",
    "sleep_weekly_df = pd.read_csv(r\"R:/KumarLab3/PROJECTS/wesens/BEDAC/external/H_WESENS_GT9X_Sleep/gt9x_sleep_weekly_valid_an.csv\")\n",
    "sleep_weekly_df = sleep_weekly_df.sort_values(by=['record_id', 'calendar_week'])\n",
    "sleep_weekly_df = pd.merge(sleep_daily_df2, sleep_weekly_df, on = ['record_id', 'calendar_week'], how = 'outer')"
   ]
  },
  {
   "cell_type": "code",
   "execution_count": null,
   "metadata": {},
   "outputs": [],
   "source": [
    "sleep_col = ['record_id', 'calendar_week', 'redcap_event_name', \n",
    "             'Efficiency_Mean', 'Efficiency_Median','Efficiency_Mode', 'Efficiency_StdDev', 'Efficiency_Min','Efficiency_Max', 'Efficiency_N', 'Efficiency_NMiss', \n",
    "             'tst_Mean', 'tst_Median', 'tst_Mode', 'tst_StdDev','tst_Min', 'tst_Max', 'tst_N', 'tst_NMiss',\n",
    "             'waso_Mean', 'waso_Median','waso_Mode', 'waso_StdDev', 'waso_Min', 'waso_Max', 'waso_N','waso_NMiss', \n",
    "             'Number_of_Awakenings_Mean','Number_of_Awakenings_Median', 'Number_of_Awakenings_Mode','Number_of_Awakenings_StdDev', 'Number_of_Awakenings_Min','Number_of_Awakenings_Max', 'Number_of_Awakenings_N','Number_of_Awakenings_NMiss',\n",
    "             'Sleep_Fragmentation_Index_Mean','Sleep_Fragmentation_Ind_Median', 'Sleep_Fragmentation_Index_Mode','Sleep_Fragmentation_Ind_StdDev', 'Sleep_Fragmentation_Index_Min','Sleep_Fragmentation_Index_Max', 'Sleep_Fragmentation_Index_N',\n",
    "             'Sleep_Fragmentation_Inde_NMiss']\n",
    "\n",
    "\n",
    "sleep_visit_weekly_df = sleep_weekly_df[sleep_col]\n",
    "sleep_visit_weekly_df = sleep_visit_weekly_df.replace('.', np.nan)\n",
    "sleep_visit_weekly_df['redcap_event_name'] = pd.to_numeric(sleep_visit_weekly_df['redcap_event_name'], errors='coerce')\n",
    "\n",
    "sleep_visit_weekly_df = sleep_visit_weekly_df.sort_values(by=['record_id', 'redcap_event_name'])\n",
    "sleep_visit_weekly_df = sleep_visit_weekly_df.reset_index(drop=True)\n",
    "sleep_visit_weekly_df.to_csv(os.path.join(outputDir, 'gt9x_sleep_weekly.csv'), index=False)"
   ]
  },
  {
   "cell_type": "markdown",
   "metadata": {},
   "source": [
    "## KOOS + DSIS"
   ]
  },
  {
   "cell_type": "code",
   "execution_count": null,
   "metadata": {},
   "outputs": [],
   "source": [
    "# Intervention Visit Day \n",
    "df_epro1 = pd.read_csv(r\"R:/KumarLab3/PROJECTS/wesens/BEDAC/redcap/wesensoa_main_blw6w12w18et_an.csv\")\n",
    "\n",
    "df_visitday = df_epro1[['record_id', 'redcap_event_name', 'tx_hx_visitdate_day']]\n",
    "df_visitday = df_visitday[(df_visitday['redcap_event_name'] != 'At-Home Baseline Visit') & (df_visitday['redcap_event_name'] != 'Screening and Enrollment') & (df_visitday['redcap_event_name'] != 'Early Termination')]\n",
    "df_visitday['redcap_event_name'] = df_visitday['redcap_event_name'].replace({\n",
    "    'Baseline Visit': 'Baseline Visit',\n",
    "    'Week 6': '6', 'Week 12': '12', 'Week 18': '18'\n",
    "})\n",
    "\n",
    "# DSIS\n",
    "df_dsis = pd.read_csv(r\"R:/KumarLab3/PROJECTS/wesens/BEDAC/redcap/wesensoa_main_dailyweekly_an.csv\")\n",
    "dsis_df = df_dsis.copy()\n",
    "\n",
    "dsis_daily_col = ['record_id','redcap_repeat_instance_dv', 'redcap_repeat_instrument', 'dsis_02bdbc']\n",
    "dsis_weely_col = ['record_id','redcap_event_name', 'redcap_repeat_instrument', 'redcap_repeat_instance', 'dsis_02bdbc']\n",
    "koos_weely_col = ['record_id','redcap_event_name', 'redcap_repeat_instrument', 'redcap_repeat_instance_dv',\n",
    "                  'koos_pain',\t'koos_adl',\t'kd_womac_pain',\t'kd_womac_stiff',\t'kd_womac_func' ]\n",
    "pgaoa_weely_col = ['record_id','redcap_event_name', 'redcap_repeat_instrument', 'redcap_repeat_instance_dv','pgaoa']\n",
    "\n",
    "# Replace \n",
    "dsis_df.loc[dsis_df['redcap_event_name'] == 'Baseline Visit', 'redcap_repeat_instance_dv'] = dsis_df['redcap_repeat_instance_dv'].replace('.', 0)\n",
    "dsis_df.loc[(dsis_df['redcap_event_name'] == 'Baseline Visit') & (dsis_df['dsis_02bdbc'] == '.'), 'dsis_02bdbc'] = dsis_df['dsis2']"
   ]
  },
  {
   "cell_type": "code",
   "execution_count": null,
   "metadata": {},
   "outputs": [],
   "source": [
    "# PGAOA Weekly\n",
    "pgaoa_weekly_df = dsis_df[pgaoa_weely_col]\n",
    "pgaoa_weekly_df.loc[pgaoa_weekly_df['redcap_event_name'] == 'Baseline Visit', 'redcap_repeat_instance_dv'] = pgaoa_weekly_df['redcap_repeat_instance_dv'].replace('.', 'Baseline Visit')\n",
    "\n",
    "pgaoa_weekly_df = pgaoa_weekly_df[pgaoa_weekly_df['redcap_event_name'].isin(['Weekly','Baseline Visit'])]\n",
    "pgaoa_weekly_df = pgaoa_weekly_df[pgaoa_weekly_df['redcap_repeat_instrument'].isin(['PGAOA', np.nan])]\n",
    "pgaoa_weekly_df = pgaoa_weekly_df.drop(columns=['redcap_event_name', 'redcap_repeat_instrument'])\n",
    "\n",
    "# KOOS Weekly\n",
    "koos_weekly_df = dsis_df[koos_weely_col]\n",
    "koos_weekly_df.loc[koos_weekly_df['redcap_event_name'] == 'Baseline Visit', 'redcap_repeat_instance_dv'] = koos_weekly_df['redcap_repeat_instance_dv'].replace('.', 'Baseline Visit')\n",
    "\n",
    "koos_weekly_df = koos_weekly_df[koos_weekly_df['redcap_event_name'].isin(['Weekly','Baseline Visit'])]\n",
    "koos_weekly_df = koos_weekly_df[koos_weekly_df['redcap_repeat_instrument'].isin(['Koosweekly', np.nan])]\n",
    "koos_weekly_df = koos_weekly_df.drop(columns=['redcap_event_name', 'redcap_repeat_instrument'])\n",
    "\n",
    "# MERGE\n",
    "koos_pgaoa_weekly_df = pd.merge(koos_weekly_df, pgaoa_weekly_df, on = ['record_id', 'redcap_repeat_instance_dv'],  how = 'outer')\n",
    "koos_pgaoa_weekly_df['pgaoa'] = koos_pgaoa_weekly_df['pgaoa'].replace('.', np.nan)\n",
    "koos_pgaoa_weekly_df.replace('.', np.nan)\n",
    "\n",
    "koos_pgaoa_weekly_df = koos_pgaoa_weekly_df. rename(columns = {'redcap_repeat_instance_dv': 'redcap_event_name'})\n",
    "# koos_weekly_df = pd.merge(koos_weekly_df, df_visitday, on = ['record_id', 'redcap_event_name'],  how = 'inner')\n",
    "# koos_weekly_df['redcap_event_name'] = koos_weekly_df['redcap_event_name'].replace('Baseline Visit', 0)\n",
    "\n",
    "# # as.numeric\n",
    "# koos_weekly_df['tx_hx_visitdate_day'] = pd.to_numeric(koos_weekly_df['tx_hx_visitdate_day'], errors='coerce')\n",
    "koos_pgaoa_weekly_df['redcap_event_name'] = pd.to_numeric(koos_pgaoa_weekly_df['redcap_event_name'], errors='coerce')\n",
    "koos_pgaoa_weekly_df.to_csv(os.path.join(outputDir, 'koos_pgaoa_weekly.csv'), index=False)"
   ]
  },
  {
   "cell_type": "markdown",
   "metadata": {},
   "source": [
    "DSIS"
   ]
  },
  {
   "cell_type": "code",
   "execution_count": null,
   "metadata": {},
   "outputs": [],
   "source": [
    "# DSIS daily\n",
    "dsis_daily_df = dsis_df[dsis_daily_col]\n",
    "dsis_daily_df = dsis_daily_df[dsis_daily_df['redcap_repeat_instrument'].isin(['Daily Log', 'Weekly', np.nan])]\n",
    "dsis_daily_df = dsis_daily_df.rename(columns = {'redcap_repeat_instance_dv': 'redcap_event_name', 'dsis_02bdbc': 'dsis'})\n",
    "dsis_daily_df['redcap_event_name'] = pd.to_numeric(dsis_daily_df['redcap_event_name'], errors='coerce')\n",
    "dsis_daily_df = dsis_daily_df.sort_values(by=['record_id', 'redcap_event_name'])\n",
    "dsis_daily_df = dsis_daily_df. drop(columns = {'redcap_repeat_instrument'})\n",
    "\n",
    "# as.numeric\n",
    "dsis_daily_df['dsis'] = dsis_daily_df['dsis'].replace('.', np.nan)\n",
    "dsis_daily_df['dsis'] = dsis_daily_df['dsis'].replace('0 Did not interfere with sleep', '0')\n",
    "# dsis_daily_df.to_csv(os.path.join(outputDir, 'dsis_daily.csv'), index=False)"
   ]
  },
  {
   "cell_type": "code",
   "execution_count": null,
   "metadata": {},
   "outputs": [],
   "source": [
    "# Baseline\n",
    "dsis_baseline = dsis_daily_df[dsis_daily_df['redcap_event_name']==0]\n",
    "dsis_baseline = dsis_baseline.reset_index(drop=True)"
   ]
  },
  {
   "cell_type": "code",
   "execution_count": null,
   "metadata": {},
   "outputs": [],
   "source": [
    "# DSIS Weekly\n",
    "dsis_weekly_df = dsis_df[dsis_weely_col]\n",
    "\n",
    "dsis_weekly_df = dsis_weekly_df[dsis_weekly_df['redcap_event_name'].isin(['Weekly'])]\n",
    "dsis_weekly_df = dsis_weekly_df[dsis_weekly_df['redcap_repeat_instrument'].isin(['Daily Log', np.nan])]\n",
    "dsis_weekly_df = dsis_weekly_df.drop(columns=['redcap_event_name', 'redcap_repeat_instrument'])\n",
    "dsis_weekly_df = dsis_weekly_df. rename(columns = {'dsis_02bdbc': 'dsis'})\n",
    "dsis_weekly_df = dsis_weekly_df. rename(columns = {'redcap_repeat_instance': 'redcap_event_name'})\n",
    "dsis_weekly_df = dsis_weekly_df.reset_index(drop=True)\n",
    "# dsis_weekly_df = pd.merge(dsis_weekly_df, df_visitday, how = 'outer', on = ['record_id', 'redcap_event_name'])\n",
    "# dsis_weekly_df['redcap_repeat_instance'] = dsis_weekly_df['redcap_repeat_instance'].replace('.', 0)\n",
    "\n",
    "# as.numeric\n",
    "# dsis_weekly_df['redcap_event_name'] = pd.to_numeric(dsis_weekly_df['redcap_event_name'], errors='coerce')\n",
    "# dsis_weekly_df['tx_hx_visitdate_day'] = pd.to_numeric(dsis_weekly_df['tx_hx_visitdate_day'], errors='coerce')\n",
    "dsis_weekly_df['redcap_event_name'] = pd.to_numeric(dsis_weekly_df['redcap_event_name'], errors='coerce')\n",
    "\n",
    "dsis_weekly_df['dsis'] = dsis_weekly_df['dsis'].replace('.', np.nan)\n",
    "dsis_weekly_df['dsis'] = dsis_weekly_df['dsis'].replace('0 Did not interfere with sleep', '0')\n",
    "dsis_weekly_df = pd.concat([dsis_baseline, dsis_weekly_df])\n",
    "dsis_weekly_df = dsis_weekly_df.sort_values(by=['record_id', 'redcap_event_name'])\n",
    "dsis_weekly_df.to_csv(os.path.join(outputDir, 'dsis_redcap_weekly.csv'), index=False)"
   ]
  },
  {
   "cell_type": "code",
   "execution_count": null,
   "metadata": {},
   "outputs": [],
   "source": [
    "# CALCULATE WEEKLY BASED ON ... \n",
    "dsis_weekly_cal_df = dsis_daily_df.copy()\n",
    "dsis_weekly_cal_df = dsis_weekly_cal_df[dsis_weekly_cal_df[\"redcap_event_name\"] != 0]\n",
    "dsis_weekly_cal_df[\"week\"] = (dsis_weekly_cal_df[\"redcap_event_name\"]//7) + 1\n",
    "dsis_weekly_cal_df['dsis'] = pd.to_numeric(dsis_weekly_cal_df['dsis'], errors='coerce')\n",
    "\n",
    "weekly_stats = dsis_weekly_cal_df.groupby([\"record_id\", \"week\"]).agg(\n",
    "    dsis_mean=(\"dsis\", \"mean\"),\n",
    "    dsis_sd=(\"dsis\", \"std\"),\n",
    "    dsis_median=(\"dsis\", \"median\"),\n",
    "    dsis_missing_n=(\"dsis\", lambda x: x.isna().sum())\n",
    ").reset_index()\n",
    "\n",
    "weekly_stats.loc[weekly_stats[\"dsis_missing_n\"] > 3, [\"dsis_mean\", \"dsis_sd\", \"dsis_median\"]] = None\n",
    "weekly_stats.loc[weekly_stats[\"dsis_missing_n\"] == 7, [\"dsis_mean\", \"dsis_sd\", \"dsis_median\"]] = None\n",
    "weekly_stats = weekly_stats.rename(columns = {'week': 'redcap_event_name'})\n",
    "# weekly_stats['redcap_event_name'] = weekly_stats['redcap_event_name'].astype(str)\n",
    "weekly_stats = weekly_stats.sort_values(by=['record_id', 'redcap_event_name'])\n",
    "weekly_stats.to_csv(os.path.join(outputDir, 'dsis_mean_weekly.csv'), index=False)"
   ]
  },
  {
   "cell_type": "markdown",
   "metadata": {},
   "source": [
    "MERGE weekly daily"
   ]
  },
  {
   "cell_type": "code",
   "execution_count": null,
   "metadata": {},
   "outputs": [],
   "source": [
    "# WEEKLY\n",
    "gt9x_dsis_weekly_df = pd.merge(dsis_weekly_df, weekly_stats, how= 'outer', on=['record_id', 'redcap_event_name'])\n",
    "gt9x_dsis_weekly_df = pd.merge(gt9x_dsis_weekly_df, sleep_visit_weekly_df, how= 'outer', on=['record_id', 'redcap_event_name'])\n",
    "gt9x_dsis_weekly_df = gt9x_dsis_weekly_df.sort_values(by=['record_id', 'redcap_event_name'])\n",
    "gt9x_dsis_weekly_df = gt9x_dsis_weekly_df.reset_index(drop=True)\n",
    "gt9x_dsis_weekly_df.to_csv(os.path.join(outputDir, 'gt9x_sleep_dsis_weekly.csv'), index=False)"
   ]
  },
  {
   "cell_type": "code",
   "execution_count": null,
   "metadata": {},
   "outputs": [],
   "source": [
    "# WEEKLY with KOOS\n",
    "gt9x_dsis_weekly_df = pd.merge(gt9x_dsis_weekly_df, koos_pgaoa_weekly_df, how= 'outer', on=['record_id', 'redcap_event_name'])\n",
    "gt9x_dsis_weekly_df = gt9x_dsis_weekly_df.sort_values(by=['record_id', 'redcap_event_name'])\n",
    "gt9x_dsis_weekly_df = gt9x_dsis_weekly_df.reset_index(drop=True)\n",
    "gt9x_dsis_weekly_df['redcap_event_name'] = pd.to_numeric(gt9x_dsis_weekly_df['redcap_event_name'], errors='coerce')\n",
    "gt9x_dsis_weekly_df = gt9x_dsis_weekly_df.sort_values(by=['record_id',  'redcap_event_name']).reset_index(drop=True)\n",
    "gt9x_dsis_weekly_df.to_csv(os.path.join(outputDir, 'gt9x_sleep_dsis_koos_pgaoa_weekly.csv'), index=False)"
   ]
  },
  {
   "cell_type": "code",
   "execution_count": null,
   "metadata": {},
   "outputs": [],
   "source": [
    "# DAILY\n",
    "sleep_daily_df['redcap_event_name'] = sleep_daily_df['day_from_first_ptvisit']\n",
    "\n",
    "gt9x_dsis_daily_df = pd.merge(dsis_daily_df, sleep_daily_df, how= 'outer', on=['record_id', 'redcap_event_name'])\n",
    "gt9x_dsis_daily_df = gt9x_dsis_daily_df.sort_values(by=['record_id', 'redcap_event_name'])\n",
    "gt9x_dsis_daily_df = gt9x_dsis_daily_df.reset_index(drop=True)\n",
    "gt9x_dsis_daily_df.to_csv(os.path.join(outputDir, 'gt9x_sleep_dsis_daily.csv'), index=False)"
   ]
  }
 ],
 "metadata": {
  "kernelspec": {
   "display_name": "RK_env",
   "language": "python",
   "name": "python3"
  },
  "language_info": {
   "codemirror_mode": {
    "name": "ipython",
    "version": 3
   },
   "file_extension": ".py",
   "mimetype": "text/x-python",
   "name": "python",
   "nbconvert_exporter": "python",
   "pygments_lexer": "ipython3",
   "version": "3.11.5"
  }
 },
 "nbformat": 4,
 "nbformat_minor": 2
}
